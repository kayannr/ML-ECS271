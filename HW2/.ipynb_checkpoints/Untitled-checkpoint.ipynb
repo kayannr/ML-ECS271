{
 "cells": [
  {
   "cell_type": "code",
   "execution_count": 36,
   "id": "b952f00c",
   "metadata": {},
   "outputs": [],
   "source": [
    "import h5py\n",
    "import pandas as pd \n",
    "import nbconvert\n",
    "import numpy as np\n",
    "from scipy.io import loadmat\n",
    "import matplotlib.pyplot as plt\n",
    "import operator \n",
    "from operator import itemgetter\n",
    "import plotly.express as px\n",
    "import timeit\n",
    "import numpy as np\n",
    "import h5py\n",
    "#data file type h5py\n",
    "import time\n",
    "import copy\n",
    "from random import randint"
   ]
  },
  {
   "cell_type": "code",
   "execution_count": 37,
   "id": "96b4e1ae",
   "metadata": {},
   "outputs": [],
   "source": [
    "MNIST_data = h5py.File('MNISTdata.hdf5', 'r')\n",
    "x_train = np.float32(MNIST_data['x_train'][:])\n",
    "y_train = np.int32(np.array(MNIST_data['y_train'][:,0]))\n",
    "x_test = np.float32(MNIST_data['x_test'][:])\n",
    "y_test = np.int32(np.array(MNIST_data['y_test'][:,0]))\n",
    "MNIST_data.close()"
   ]
  },
  {
   "cell_type": "code",
   "execution_count": 56,
   "id": "d94e1d5a",
   "metadata": {},
   "outputs": [],
   "source": [
    "class NN:\n",
    "    first_layer = {}\n",
    "    second_layer = {}\n",
    "\n",
    "    def __init__(self, inputs, hidden, outputs):\n",
    "        # initialize the model parameters, including the first and second layer \n",
    "        # parameters and biases\n",
    "        self.first_layer['para'] = np.random.randn(hidden,inputs) / np.sqrt(num_inputs)\n",
    "        self.first_layer['bias'] = np.random.randn(hidden,1) / np.sqrt(hidden)\n",
    "        self.second_layer['para'] = np.random.randn(outputs,hidden) / np.sqrt(hidden)\n",
    "        self.second_layer['bias'] = np.random.randn(outputs,1) / np.sqrt(hidden)\n",
    "        self.input_size = inputs\n",
    "        self.hid_size = hidden\n",
    "        self.output_size = outputs\n",
    "\n",
    "    def __activfunc(self,Z,type = 'ReLU',deri = False):\n",
    "        # implement the activation function\n",
    "        if type == 'ReLU':\n",
    "            if deri == True:\n",
    "                return np.array([1 if i>0 else 0 for i in np.squeeze(Z)])\n",
    "            else:\n",
    "                return np.array([i if i>0 else 0 for i in np.squeeze(Z)])\n",
    "        elif type == 'Sigmoid':\n",
    "            if deri == True:\n",
    "                return 1/(1+np.exp(-Z))*(1-1/(1+np.exp(-Z)))\n",
    "            else:\n",
    "                return 1/(1+np.exp(-Z))\n",
    "        elif type == 'tanh':\n",
    "            if deri == True:\n",
    "                return \n",
    "            else:\n",
    "                return 1-(np.tanh(Z))**2\n",
    "        else:\n",
    "            raise TypeError('Invalid type!')\n",
    "\n",
    "    def __Softmax(self,z):\n",
    "        # implement the softmax function\n",
    "        return 1/sum(np.exp(z)) * np.exp(z)\n",
    "\n",
    "    def __cross_entropy_error(self,v,y):\n",
    "        # implement the cross entropy error\n",
    "        return -np.log(v[y])\n",
    "\n",
    "    def __forward(self,x,y):\n",
    "        # implement the forward computation, calculation of prediction list and error\n",
    "        Z = np.matmul(self.first_layer['para'],x).reshape((self.hid_size,1)) + self.first_layer['bias']\n",
    "        H = np.array(self.__activfunc(Z)).reshape((self.hid_size,1))\n",
    "        U = np.matmul(self.second_layer['para'],H).reshape((self.output_size,1)) + self.second_layer['bias']\n",
    "        predict_list = np.squeeze(self.__Softmax(U))\n",
    "        error = self.__cross_entropy_error(predict_list,y)\n",
    "        \n",
    "        dic = {\n",
    "            'Z':Z,\n",
    "            'H':H,\n",
    "            'U':U,\n",
    "            'f_X':predict_list.reshape((1,self.output_size)),\n",
    "            'error':error\n",
    "        }\n",
    "        return dic\n",
    "\n",
    "    def __back_propagation(self,x,y,f_result):\n",
    "        # implement the back propagation process, compute the gradients\n",
    "        E = np.array([0]*self.output_size).reshape((1,self.output_size))\n",
    "        E[0][y] = 1\n",
    "        dU = (-(E - f_result['f_X'])).reshape((self.output_size,1))\n",
    "        db_2 = copy.copy(dU)\n",
    "        dC = np.matmul(dU,f_result['H'].transpose())\n",
    "        delta = np.matmul(self.second_layer['para'].transpose(),dU)\n",
    "        db_1 = delta.reshape(self.hid_size,1)*self.__activfunc(f_result['Z'],deri=True).reshape(self.hid_size,1)\n",
    "        dW = np.matmul(db_1.reshape((self.hid_size,1)),x.reshape((1,784)))\n",
    "\n",
    "        grad = {\n",
    "            'dC':dC,\n",
    "            'db_2':db_2,\n",
    "            'db_1':db_1,\n",
    "            'dW':dW\n",
    "        }\n",
    "        return grad\n",
    "\n",
    "    def __optimize(self,b_result, learning_rate):\n",
    "        # update the hyperparameters\n",
    "        self.second_layer['para'] -= learning_rate*b_result['dC']\n",
    "        self.second_layer['bias'] -= learning_rate*b_result['db_2']\n",
    "        self.first_layer['bias'] -= learning_rate*b_result['db_1']\n",
    "        self.first_layer['para'] -= learning_rate*b_result['dW']\n",
    "\n",
    "    def __loss(self,X_train,Y_train):\n",
    "        # implement the loss function of the training set\n",
    "        loss = 0\n",
    "        for n in range(len(X_train)):\n",
    "            y = Y_train[n]\n",
    "            x = X_train[n][:]\n",
    "            loss += self.__forward(x,y)['error']\n",
    "        return loss\n",
    "\n",
    "    def train(self, X_train, Y_train, num_iterations = 1000, learning_rate = 0.5):\n",
    "        # generate a random list of indices for the training set\n",
    "        rand_indices = np.random.choice(len(X_train), num_iterations, replace=True)\n",
    "        \n",
    "        def l_rate(base_rate, ite, num_iterations, schedule = False):\n",
    "        # determine whether to use the learning schedule\n",
    "            if schedule == True:\n",
    "                return base_rate * 10 ** (-np.floor(ite/num_iterations*5))\n",
    "            else:\n",
    "                return base_rate\n",
    "\n",
    "        count = 1\n",
    "        loss_dict = {}\n",
    "        test_dict = {}\n",
    "\n",
    "        for i in rand_indices:\n",
    "            f_result = self.__forward(X_train[i],Y_train[i])\n",
    "            b_result = self.__back_propagation(X_train[i],Y_train[i],f_result)\n",
    "            self.__optimize(b_result,l_rate(learning_rate,i,num_iterations,True))\n",
    "            \n",
    "            if count % 1000 == 0:\n",
    "                if count % 5000 == 0:\n",
    "                    loss = self.__loss(X_train,Y_train)\n",
    "                    test = self.testing(x_test,y_test)\n",
    "                    print('Trained for {} times,'.format(count),'loss = {}, test = {}'.format(loss,test))\n",
    "                    loss_dict[str(count)]=loss\n",
    "                    test_dict[str(count)]=test\n",
    "                else:\n",
    "                    print('Trained for {} times,'.format(count))\n",
    "            count += 1\n",
    "\n",
    "        print('Training finished!')\n",
    "        return loss_dict, test_dict\n",
    "\n",
    "    def testing(self,X_test, Y_test):\n",
    "        # test the model on the training dataset\n",
    "        total_correct = 0\n",
    "        for n in range(len(X_test)):\n",
    "            y = Y_test[n]\n",
    "            x = X_test[n][:]\n",
    "            prediction = np.argmax(self.__forward(x,y)['f_X'])\n",
    "            if (prediction == y):\n",
    "                total_correct += 1\n",
    "        print('Accuarcy Test: ',total_correct/len(X_test))\n",
    "        return (total_correct/np.float(len(X_test))), prediction "
   ]
  },
  {
   "cell_type": "code",
   "execution_count": 57,
   "id": "2460604b",
   "metadata": {
    "scrolled": true
   },
   "outputs": [
    {
     "name": "stdout",
     "output_type": "stream",
     "text": [
      "Trained for 1000 times,\n",
      "Trained for 2000 times,\n",
      "Trained for 3000 times,\n",
      "Trained for 4000 times,\n",
      "Accuarcy Test:  0.7529\n",
      "Trained for 5000 times, loss = 57815.3705111091, test = 0.7529\n"
     ]
    },
    {
     "name": "stderr",
     "output_type": "stream",
     "text": [
      "C:\\Users\\kayan\\AppData\\Local\\Temp\\ipykernel_20040\\2756543482.py:140: DeprecationWarning: `np.float` is a deprecated alias for the builtin `float`. To silence this warning, use `float` by itself. Doing this will not modify any behavior and is safe. If you specifically wanted the numpy scalar type, use `np.float64` here.\n",
      "Deprecated in NumPy 1.20; for more details and guidance: https://numpy.org/devdocs/release/1.20.0-notes.html#deprecations\n",
      "  return (total_correct/np.float(len(X_test))), prediction\n"
     ]
    },
    {
     "name": "stdout",
     "output_type": "stream",
     "text": [
      "Trained for 6000 times,\n",
      "Trained for 7000 times,\n"
     ]
    },
    {
     "ename": "KeyboardInterrupt",
     "evalue": "",
     "output_type": "error",
     "traceback": [
      "\u001b[1;31m---------------------------------------------------------------------------\u001b[0m",
      "\u001b[1;31mKeyboardInterrupt\u001b[0m                         Traceback (most recent call last)",
      "Input \u001b[1;32mIn [57]\u001b[0m, in \u001b[0;36m<cell line: 14>\u001b[1;34m()\u001b[0m\n\u001b[0;32m     12\u001b[0m \u001b[38;5;66;03m# data fitting, training and accuracy evaluation\u001b[39;00m\n\u001b[0;32m     13\u001b[0m model \u001b[38;5;241m=\u001b[39m NN(num_inputs,hidden_size,num_outputs)\n\u001b[1;32m---> 14\u001b[0m cost_dict, tests_dict, prediction  \u001b[38;5;241m=\u001b[39m \u001b[43mmodel\u001b[49m\u001b[38;5;241;43m.\u001b[39;49m\u001b[43mtrain\u001b[49m\u001b[43m(\u001b[49m\u001b[43mx_train\u001b[49m\u001b[43m,\u001b[49m\u001b[43my_train\u001b[49m\u001b[43m,\u001b[49m\u001b[43mnum_iterations\u001b[49m\u001b[38;5;241;43m=\u001b[39;49m\u001b[43mnum_iterations\u001b[49m\u001b[43m,\u001b[49m\u001b[43mlearning_rate\u001b[49m\u001b[38;5;241;43m=\u001b[39;49m\u001b[43mlearning_rate\u001b[49m\u001b[43m)\u001b[49m\n\u001b[0;32m     15\u001b[0m accu \u001b[38;5;241m=\u001b[39m model\u001b[38;5;241m.\u001b[39mtesting(x_test,y_test)\n",
      "Input \u001b[1;32mIn [56]\u001b[0m, in \u001b[0;36mNN.train\u001b[1;34m(self, X_train, Y_train, num_iterations, learning_rate)\u001b[0m\n\u001b[0;32m    112\u001b[0m f_result \u001b[38;5;241m=\u001b[39m \u001b[38;5;28mself\u001b[39m\u001b[38;5;241m.\u001b[39m__forward(X_train[i],Y_train[i])\n\u001b[0;32m    113\u001b[0m b_result \u001b[38;5;241m=\u001b[39m \u001b[38;5;28mself\u001b[39m\u001b[38;5;241m.\u001b[39m__back_propagation(X_train[i],Y_train[i],f_result)\n\u001b[1;32m--> 114\u001b[0m \u001b[38;5;28;43mself\u001b[39;49m\u001b[38;5;241;43m.\u001b[39;49m\u001b[43m__optimize\u001b[49m\u001b[43m(\u001b[49m\u001b[43mb_result\u001b[49m\u001b[43m,\u001b[49m\u001b[43ml_rate\u001b[49m\u001b[43m(\u001b[49m\u001b[43mlearning_rate\u001b[49m\u001b[43m,\u001b[49m\u001b[43mi\u001b[49m\u001b[43m,\u001b[49m\u001b[43mnum_iterations\u001b[49m\u001b[43m,\u001b[49m\u001b[38;5;28;43;01mTrue\u001b[39;49;00m\u001b[43m)\u001b[49m\u001b[43m)\u001b[49m\n\u001b[0;32m    116\u001b[0m \u001b[38;5;28;01mif\u001b[39;00m count \u001b[38;5;241m%\u001b[39m \u001b[38;5;241m1000\u001b[39m \u001b[38;5;241m==\u001b[39m \u001b[38;5;241m0\u001b[39m:\n\u001b[0;32m    117\u001b[0m     \u001b[38;5;28;01mif\u001b[39;00m count \u001b[38;5;241m%\u001b[39m \u001b[38;5;241m5000\u001b[39m \u001b[38;5;241m==\u001b[39m \u001b[38;5;241m0\u001b[39m:\n",
      "Input \u001b[1;32mIn [56]\u001b[0m, in \u001b[0;36mNN.__optimize\u001b[1;34m(self, b_result, learning_rate)\u001b[0m\n\u001b[0;32m     83\u001b[0m \u001b[38;5;28mself\u001b[39m\u001b[38;5;241m.\u001b[39msecond_layer[\u001b[38;5;124m'\u001b[39m\u001b[38;5;124mbias\u001b[39m\u001b[38;5;124m'\u001b[39m] \u001b[38;5;241m-\u001b[39m\u001b[38;5;241m=\u001b[39m learning_rate\u001b[38;5;241m*\u001b[39mb_result[\u001b[38;5;124m'\u001b[39m\u001b[38;5;124mdb_2\u001b[39m\u001b[38;5;124m'\u001b[39m]\n\u001b[0;32m     84\u001b[0m \u001b[38;5;28mself\u001b[39m\u001b[38;5;241m.\u001b[39mfirst_layer[\u001b[38;5;124m'\u001b[39m\u001b[38;5;124mbias\u001b[39m\u001b[38;5;124m'\u001b[39m] \u001b[38;5;241m-\u001b[39m\u001b[38;5;241m=\u001b[39m learning_rate\u001b[38;5;241m*\u001b[39mb_result[\u001b[38;5;124m'\u001b[39m\u001b[38;5;124mdb_1\u001b[39m\u001b[38;5;124m'\u001b[39m]\n\u001b[1;32m---> 85\u001b[0m \u001b[38;5;28mself\u001b[39m\u001b[38;5;241m.\u001b[39mfirst_layer[\u001b[38;5;124m'\u001b[39m\u001b[38;5;124mpara\u001b[39m\u001b[38;5;124m'\u001b[39m] \u001b[38;5;241m-\u001b[39m\u001b[38;5;241m=\u001b[39m \u001b[43mlearning_rate\u001b[49m\u001b[38;5;241;43m*\u001b[39;49m\u001b[43mb_result\u001b[49m\u001b[43m[\u001b[49m\u001b[38;5;124;43m'\u001b[39;49m\u001b[38;5;124;43mdW\u001b[39;49m\u001b[38;5;124;43m'\u001b[39;49m\u001b[43m]\u001b[49m\n",
      "\u001b[1;31mKeyboardInterrupt\u001b[0m: "
     ]
    }
   ],
   "source": [
    "# set the number of iterations\n",
    "num_iterations = 20000\n",
    "# set the base learning rate\n",
    "learning_rate = 0.01\n",
    "# number of inputs\n",
    "num_inputs = 28*28\n",
    "# number of outputs\n",
    "num_outputs = 10\n",
    "# size of hidden layer\n",
    "hidden_size = 300\n",
    "\n",
    "# data fitting, training and accuracy evaluation\n",
    "model = NN(num_inputs,hidden_size,num_outputs)\n",
    "cost_dict, tests_dict = model.train(x_train,y_train,num_iterations=num_iterations,learning_rate=learning_rate)\n",
    "accu = model.testing(x_test,y_test)"
   ]
  },
  {
   "cell_type": "code",
   "execution_count": 58,
   "id": "eb07bcdc",
   "metadata": {},
   "outputs": [
    {
     "ename": "NameError",
     "evalue": "name 'prediction' is not defined",
     "output_type": "error",
     "traceback": [
      "\u001b[1;31m---------------------------------------------------------------------------\u001b[0m",
      "\u001b[1;31mNameError\u001b[0m                                 Traceback (most recent call last)",
      "Input \u001b[1;32mIn [58]\u001b[0m, in \u001b[0;36m<cell line: 1>\u001b[1;34m()\u001b[0m\n\u001b[1;32m----> 1\u001b[0m \u001b[43mprediction\u001b[49m\n",
      "\u001b[1;31mNameError\u001b[0m: name 'prediction' is not defined"
     ]
    }
   ],
   "source": [
    "# generate a random list of indices for the training set\n",
    "rand_indices = np.random.choice(len(X_train), num_iterations, replace=True)\n",
    "\n",
    "def l_rate(base_rate, ite, num_iterations, schedule = False):\n",
    "# determine whether to use the learning schedule\n",
    "    if schedule == True:\n",
    "        return base_rate * 10 ** (-np.floor(ite/num_iterations*5))\n",
    "    else:\n",
    "        return base_rate\n",
    "\n",
    "count = 1\n",
    "loss_dict = {}\n",
    "test_dict = {}\n",
    "\n",
    "for i in rand_indices:\n",
    "    f_result = self.__forward(X_train[i],Y_train[i])\n",
    "    b_result = self.__back_propagation(X_train[i],Y_train[i],f_result)\n",
    "    self.__optimize(b_result,l_rate(learning_rate,i,num_iterations,True))\n",
    "\n",
    "    if count % 1000 == 0:\n",
    "        if count % 5000 == 0:\n",
    "            loss = self.__loss(X_train,Y_train)\n",
    "            test = self.testing(x_test,y_test)\n",
    "            print('Trained for {} times,'.format(count),'loss = {}, test = {}'.format(loss,test))\n",
    "            loss_dict[str(count)]=loss\n",
    "            test_dict[str(count)]=test\n",
    "        else:\n",
    "            print('Trained for {} times,'.format(count))\n",
    "    count += 1\n",
    "\n",
    "print('Training finished!')\n",
    "return loss_dict, test_dict"
   ]
  },
  {
   "cell_type": "code",
   "execution_count": 10,
   "id": "f172f55c",
   "metadata": {},
   "outputs": [
    {
     "data": {
      "image/png": "[encoded data removed]",
      "text/plain": [
       "<Figure size 640x480 with 1 Axes>"
      ]
     },
     "metadata": {},
     "output_type": "display_data"
    },
    {
     "data": {
      "image/png": "[encoded data removed]",
      "text/plain": [
       "<Figure size 640x480 with 1 Axes>"
      ]
     },
     "metadata": {},
     "output_type": "display_data"
    }
   ],
   "source": [
    "# plotting the loss function and test accuracy corresponding to the number of iterations\n",
    "import matplotlib.pyplot as plt\n",
    "plt.plot(cost_dict.keys(),cost_dict.values())\n",
    "plt.ylabel('Loss function')\n",
    "plt.xlabel('Number of iterations')\n",
    "plt.xticks(rotation=60)\n",
    "plt.title('Loss function w.r.t. number of iterations')\n",
    "plt.show()\n",
    "\n",
    "plt.plot(tests_dict.keys(),tests_dict.values())\n",
    "plt.ylabel('Test Accuracy')\n",
    "plt.xlabel('Number of iterations')\n",
    "plt.xticks(rotation=60)\n",
    "plt.title('Test accuracy w.r.t. number of iterations')\n",
    "plt.show()"
   ]
  },
  {
   "cell_type": "code",
   "execution_count": null,
   "id": "8aab4f1e",
   "metadata": {},
   "outputs": [],
   "source": []
  },
  {
   "cell_type": "code",
   "execution_count": 5,
   "id": "69334ec6",
   "metadata": {},
   "outputs": [],
   "source": [
    "# Import dependencies \n",
    "import pandas as pd \n",
    "import nbconvert\n",
    "import numpy as np\n",
    "from scipy.io import loadmat\n",
    "import matplotlib.pyplot as plt\n",
    "import operator \n",
    "from operator import itemgetter\n",
    "import plotly.express as px\n",
    "import timeit"
   ]
  },
  {
   "cell_type": "code",
   "execution_count": 22,
   "id": "2575b343",
   "metadata": {},
   "outputs": [],
   "source": [
    "X, y = fetch_openml('mnist_784', version=1, return_X_y=True, as_frame=False)\n",
    "\n"
   ]
  },
  {
   "cell_type": "code",
   "execution_count": 26,
   "id": "68f1b5c1",
   "metadata": {},
   "outputs": [],
   "source": [
    "# scale\n",
    "X = X / 255"
   ]
  },
  {
   "cell_type": "code",
   "execution_count": 27,
   "id": "062fdd97",
   "metadata": {},
   "outputs": [
    {
     "data": {
      "text/plain": [
       "array([0.        , 0.        , 0.        , 0.        , 0.        ,\n",
       "       0.        , 0.        , 0.        , 0.        , 0.        ,\n",
       "       0.        , 0.        , 0.        , 0.        , 0.        ,\n",
       "       0.        , 0.        , 0.        , 0.        , 0.        ,\n",
       "       0.        , 0.        , 0.        , 0.        , 0.        ,\n",
       "       0.        , 0.        , 0.        , 0.        , 0.        ,\n",
       "       0.        , 0.        , 0.        , 0.        , 0.        ,\n",
       "       0.        , 0.        , 0.        , 0.        , 0.        ,\n",
       "       0.        , 0.        , 0.        , 0.        , 0.        ,\n",
       "       0.        , 0.        , 0.        , 0.        , 0.        ,\n",
       "       0.        , 0.        , 0.        , 0.        , 0.        ,\n",
       "       0.        , 0.        , 0.        , 0.        , 0.        ,\n",
       "       0.        , 0.        , 0.        , 0.        , 0.        ,\n",
       "       0.        , 0.        , 0.        , 0.        , 0.        ,\n",
       "       0.        , 0.        , 0.        , 0.        , 0.        ,\n",
       "       0.        , 0.        , 0.        , 0.        , 0.        ,\n",
       "       0.        , 0.        , 0.        , 0.        , 0.        ,\n",
       "       0.        , 0.        , 0.        , 0.        , 0.        ,\n",
       "       0.        , 0.        , 0.        , 0.        , 0.        ,\n",
       "       0.        , 0.        , 0.        , 0.        , 0.        ,\n",
       "       0.        , 0.        , 0.        , 0.        , 0.        ,\n",
       "       0.        , 0.        , 0.        , 0.        , 0.        ,\n",
       "       0.        , 0.        , 0.        , 0.        , 0.        ,\n",
       "       0.        , 0.        , 0.        , 0.        , 0.        ,\n",
       "       0.        , 0.        , 0.        , 0.        , 0.        ,\n",
       "       0.        , 0.        , 0.        , 0.        , 0.        ,\n",
       "       0.        , 0.        , 0.        , 0.        , 0.        ,\n",
       "       0.        , 0.        , 0.        , 0.        , 0.        ,\n",
       "       0.        , 0.        , 0.        , 0.        , 0.        ,\n",
       "       0.        , 0.        , 0.        , 0.        , 0.        ,\n",
       "       0.        , 0.        , 0.01176471, 0.07058824, 0.07058824,\n",
       "       0.07058824, 0.49411765, 0.53333333, 0.68627451, 0.10196078,\n",
       "       0.65098039, 1.        , 0.96862745, 0.49803922, 0.        ,\n",
       "       0.        , 0.        , 0.        , 0.        , 0.        ,\n",
       "       0.        , 0.        , 0.        , 0.        , 0.        ,\n",
       "       0.        , 0.11764706, 0.14117647, 0.36862745, 0.60392157,\n",
       "       0.66666667, 0.99215686, 0.99215686, 0.99215686, 0.99215686,\n",
       "       0.99215686, 0.88235294, 0.6745098 , 0.99215686, 0.94901961,\n",
       "       0.76470588, 0.25098039, 0.        , 0.        , 0.        ,\n",
       "       0.        , 0.        , 0.        , 0.        , 0.        ,\n",
       "       0.        , 0.        , 0.        , 0.19215686, 0.93333333,\n",
       "       0.99215686, 0.99215686, 0.99215686, 0.99215686, 0.99215686,\n",
       "       0.99215686, 0.99215686, 0.99215686, 0.98431373, 0.36470588,\n",
       "       0.32156863, 0.32156863, 0.21960784, 0.15294118, 0.        ,\n",
       "       0.        , 0.        , 0.        , 0.        , 0.        ,\n",
       "       0.        , 0.        , 0.        , 0.        , 0.        ,\n",
       "       0.        , 0.07058824, 0.85882353, 0.99215686, 0.99215686,\n",
       "       0.99215686, 0.99215686, 0.99215686, 0.77647059, 0.71372549,\n",
       "       0.96862745, 0.94509804, 0.        , 0.        , 0.        ,\n",
       "       0.        , 0.        , 0.        , 0.        , 0.        ,\n",
       "       0.        , 0.        , 0.        , 0.        , 0.        ,\n",
       "       0.        , 0.        , 0.        , 0.        , 0.        ,\n",
       "       0.31372549, 0.61176471, 0.41960784, 0.99215686, 0.99215686,\n",
       "       0.80392157, 0.04313725, 0.        , 0.16862745, 0.60392157,\n",
       "       0.        , 0.        , 0.        , 0.        , 0.        ,\n",
       "       0.        , 0.        , 0.        , 0.        , 0.        ,\n",
       "       0.        , 0.        , 0.        , 0.        , 0.        ,\n",
       "       0.        , 0.        , 0.        , 0.        , 0.05490196,\n",
       "       0.00392157, 0.60392157, 0.99215686, 0.35294118, 0.        ,\n",
       "       0.        , 0.        , 0.        , 0.        , 0.        ,\n",
       "       0.        , 0.        , 0.        , 0.        , 0.        ,\n",
       "       0.        , 0.        , 0.        , 0.        , 0.        ,\n",
       "       0.        , 0.        , 0.        , 0.        , 0.        ,\n",
       "       0.        , 0.        , 0.        , 0.        , 0.54509804,\n",
       "       0.99215686, 0.74509804, 0.00784314, 0.        , 0.        ,\n",
       "       0.        , 0.        , 0.        , 0.        , 0.        ,\n",
       "       0.        , 0.        , 0.        , 0.        , 0.        ,\n",
       "       0.        , 0.        , 0.        , 0.        , 0.        ,\n",
       "       0.        , 0.        , 0.        , 0.        , 0.        ,\n",
       "       0.        , 0.        , 0.04313725, 0.74509804, 0.99215686,\n",
       "       0.2745098 , 0.        , 0.        , 0.        , 0.        ,\n",
       "       0.        , 0.        , 0.        , 0.        , 0.        ,\n",
       "       0.        , 0.        , 0.        , 0.        , 0.        ,\n",
       "       0.        , 0.        , 0.        , 0.        , 0.        ,\n",
       "       0.        , 0.        , 0.        , 0.        , 0.        ,\n",
       "       0.        , 0.1372549 , 0.94509804, 0.88235294, 0.62745098,\n",
       "       0.42352941, 0.00392157, 0.        , 0.        , 0.        ,\n",
       "       0.        , 0.        , 0.        , 0.        , 0.        ,\n",
       "       0.        , 0.        , 0.        , 0.        , 0.        ,\n",
       "       0.        , 0.        , 0.        , 0.        , 0.        ,\n",
       "       0.        , 0.        , 0.        , 0.        , 0.        ,\n",
       "       0.31764706, 0.94117647, 0.99215686, 0.99215686, 0.46666667,\n",
       "       0.09803922, 0.        , 0.        , 0.        , 0.        ,\n",
       "       0.        , 0.        , 0.        , 0.        , 0.        ,\n",
       "       0.        , 0.        , 0.        , 0.        , 0.        ,\n",
       "       0.        , 0.        , 0.        , 0.        , 0.        ,\n",
       "       0.        , 0.        , 0.        , 0.        , 0.17647059,\n",
       "       0.72941176, 0.99215686, 0.99215686, 0.58823529, 0.10588235,\n",
       "       0.        , 0.        , 0.        , 0.        , 0.        ,\n",
       "       0.        , 0.        , 0.        , 0.        , 0.        ,\n",
       "       0.        , 0.        , 0.        , 0.        , 0.        ,\n",
       "       0.        , 0.        , 0.        , 0.        , 0.        ,\n",
       "       0.        , 0.        , 0.        , 0.0627451 , 0.36470588,\n",
       "       0.98823529, 0.99215686, 0.73333333, 0.        , 0.        ,\n",
       "       0.        , 0.        , 0.        , 0.        , 0.        ,\n",
       "       0.        , 0.        , 0.        , 0.        , 0.        ,\n",
       "       0.        , 0.        , 0.        , 0.        , 0.        ,\n",
       "       0.        , 0.        , 0.        , 0.        , 0.        ,\n",
       "       0.        , 0.        , 0.        , 0.97647059, 0.99215686,\n",
       "       0.97647059, 0.25098039, 0.        , 0.        , 0.        ,\n",
       "       0.        , 0.        , 0.        , 0.        , 0.        ,\n",
       "       0.        , 0.        , 0.        , 0.        , 0.        ,\n",
       "       0.        , 0.        , 0.        , 0.        , 0.        ,\n",
       "       0.        , 0.        , 0.        , 0.18039216, 0.50980392,\n",
       "       0.71764706, 0.99215686, 0.99215686, 0.81176471, 0.00784314,\n",
       "       0.        , 0.        , 0.        , 0.        , 0.        ,\n",
       "       0.        , 0.        , 0.        , 0.        , 0.        ,\n",
       "       0.        , 0.        , 0.        , 0.        , 0.        ,\n",
       "       0.        , 0.        , 0.        , 0.        , 0.15294118,\n",
       "       0.58039216, 0.89803922, 0.99215686, 0.99215686, 0.99215686,\n",
       "       0.98039216, 0.71372549, 0.        , 0.        , 0.        ,\n",
       "       0.        , 0.        , 0.        , 0.        , 0.        ,\n",
       "       0.        , 0.        , 0.        , 0.        , 0.        ,\n",
       "       0.        , 0.        , 0.        , 0.        , 0.        ,\n",
       "       0.09411765, 0.44705882, 0.86666667, 0.99215686, 0.99215686,\n",
       "       0.99215686, 0.99215686, 0.78823529, 0.30588235, 0.        ,\n",
       "       0.        , 0.        , 0.        , 0.        , 0.        ,\n",
       "       0.        , 0.        , 0.        , 0.        , 0.        ,\n",
       "       0.        , 0.        , 0.        , 0.        , 0.        ,\n",
       "       0.        , 0.09019608, 0.25882353, 0.83529412, 0.99215686,\n",
       "       0.99215686, 0.99215686, 0.99215686, 0.77647059, 0.31764706,\n",
       "       0.00784314, 0.        , 0.        , 0.        , 0.        ,\n",
       "       0.        , 0.        , 0.        , 0.        , 0.        ,\n",
       "       0.        , 0.        , 0.        , 0.        , 0.        ,\n",
       "       0.        , 0.        , 0.07058824, 0.67058824, 0.85882353,\n",
       "       0.99215686, 0.99215686, 0.99215686, 0.99215686, 0.76470588,\n",
       "       0.31372549, 0.03529412, 0.        , 0.        , 0.        ,\n",
       "       0.        , 0.        , 0.        , 0.        , 0.        ,\n",
       "       0.        , 0.        , 0.        , 0.        , 0.        ,\n",
       "       0.        , 0.        , 0.        , 0.21568627, 0.6745098 ,\n",
       "       0.88627451, 0.99215686, 0.99215686, 0.99215686, 0.99215686,\n",
       "       0.95686275, 0.52156863, 0.04313725, 0.        , 0.        ,\n",
       "       0.        , 0.        , 0.        , 0.        , 0.        ,\n",
       "       0.        , 0.        , 0.        , 0.        , 0.        ,\n",
       "       0.        , 0.        , 0.        , 0.        , 0.        ,\n",
       "       0.        , 0.53333333, 0.99215686, 0.99215686, 0.99215686,\n",
       "       0.83137255, 0.52941176, 0.51764706, 0.0627451 , 0.        ,\n",
       "       0.        , 0.        , 0.        , 0.        , 0.        ,\n",
       "       0.        , 0.        , 0.        , 0.        , 0.        ,\n",
       "       0.        , 0.        , 0.        , 0.        , 0.        ,\n",
       "       0.        , 0.        , 0.        , 0.        , 0.        ,\n",
       "       0.        , 0.        , 0.        , 0.        , 0.        ,\n",
       "       0.        , 0.        , 0.        , 0.        , 0.        ,\n",
       "       0.        , 0.        , 0.        , 0.        , 0.        ,\n",
       "       0.        , 0.        , 0.        , 0.        , 0.        ,\n",
       "       0.        , 0.        , 0.        , 0.        , 0.        ,\n",
       "       0.        , 0.        , 0.        , 0.        , 0.        ,\n",
       "       0.        , 0.        , 0.        , 0.        , 0.        ,\n",
       "       0.        , 0.        , 0.        , 0.        , 0.        ,\n",
       "       0.        , 0.        , 0.        , 0.        , 0.        ,\n",
       "       0.        , 0.        , 0.        , 0.        , 0.        ,\n",
       "       0.        , 0.        , 0.        , 0.        , 0.        ,\n",
       "       0.        , 0.        , 0.        , 0.        , 0.        ,\n",
       "       0.        , 0.        , 0.        , 0.        , 0.        ,\n",
       "       0.        , 0.        , 0.        , 0.        , 0.        ,\n",
       "       0.        , 0.        , 0.        , 0.        , 0.        ,\n",
       "       0.        , 0.        , 0.        , 0.        ])"
      ]
     },
     "execution_count": 27,
     "metadata": {},
     "output_type": "execute_result"
    }
   ],
   "source": [
    "X[0]"
   ]
  },
  {
   "cell_type": "code",
   "execution_count": 79,
   "id": "b35a00ad",
   "metadata": {},
   "outputs": [],
   "source": [
    "from sklearn.datasets import fetch_openml\n",
    "from sklearn.metrics import classification_report, confusion_matrix\n",
    "import numpy as np\n",
    "\n",
    "# import\n",
    "X, y = fetch_openml('mnist_784', version=1, return_X_y=True, as_frame=False)\n",
    "\n",
    "# scale\n",
    "X = X / 255\n",
    "\n",
    "# one-hot encode labels\n",
    "digits = 10\n",
    "examples = y.shape[0]\n",
    "y = y.reshape(1, examples)\n",
    "Y_new = np.eye(digits)[y.astype('int32')]\n",
    "Y_new = Y_new.T.reshape(digits, examples)\n",
    "\n",
    "# split, reshape, shuffle\n",
    "m = 60000\n",
    "m_test = X.shape[0] - m\n",
    "X_train, X_test = X[:m].T, X[m:].T\n",
    "Y_train, Y_test = Y_new[:,:m], Y_new[:,m:]\n",
    "shuffle_index = np.random.permutation(m)\n",
    "X_train, Y_train = X_train[:, shuffle_index], Y_train[:, shuffle_index]\n",
    "\n",
    "permutation = np.random.permutation(X_train.shape[1])\n",
    "X_train_shuffled = X_train[:, permutation]\n",
    "Y_train_shuffled = Y_train[:, permutation]"
   ]
  },
  {
   "cell_type": "code",
   "execution_count": 11,
   "id": "3f48f907",
   "metadata": {},
   "outputs": [
    {
     "name": "stdout",
     "output_type": "stream",
     "text": [
      "(60000, 784) (60000, 1)\n",
      "(10000, 784) (10000, 1)\n"
     ]
    }
   ],
   "source": [
    "#Load dataset \n",
    "M = loadmat('..\\HW1\\data\\MNIST_digit_data.mat')\n",
    "images_train,images_test,labels_train,labels_test= M['images_train'],M['images_test'],M['labels_train'],M['labels_test']\n",
    "\n",
    "np.random.seed(1)\n",
    "\n",
    "#randomly permute data points\n",
    "inds = np.random.permutation(images_train.shape[0])\n",
    "images_train = images_train[inds]\n",
    "labels_train = labels_train[inds]\n",
    "\n",
    "inds = np.random.permutation(images_test.shape[0])\n",
    "images_test = images_test[inds]\n",
    "labels_test = labels_test[inds]\n",
    "\n",
    "print(images_train.shape, labels_train.shape)\n",
    "print(images_test.shape, labels_test.shape)"
   ]
  },
  {
   "cell_type": "code",
   "execution_count": 63,
   "id": "00bbd2cb",
   "metadata": {},
   "outputs": [],
   "source": [
    "#one hot encoding function \n",
    "def one_hot_enc(Y):\n",
    "    t = np.zeros((Y.shape[0], 10))\n",
    "    for i in range(Y.shape[0]):\n",
    "        t[i][int(Y[i][0])] = 1 \n",
    "    return t\n",
    "\n",
    "#normalization function \n",
    "def normalize(X): \n",
    "    X = X / 255 #divide by 255 since we have pixel-values from 0 to 255 \n",
    "    return X \n",
    "\n",
    "images_train_norm = normalize(images_train)\n",
    "labels_train_enc = one_hot_enc(labels_train).astype(float)\n",
    "images_test_norm = normalize(images_test)\n",
    "labels_test_enc = one_hot_enc(labels_test).astype(float)\n",
    "\n",
    "#print(images_train_norm.shape, labels_train_enc.shape)\n",
    "#print(images_test_norm.shape, labels_test_enc.shape)\n",
    "\n",
    "X_train = images_train_norm.T\n",
    "Y_train = labels_train_enc.T\n",
    "X_test = images_test_norm.T\n",
    "Y_test = labels_test_enc.T"
   ]
  },
  {
   "cell_type": "code",
   "execution_count": 80,
   "id": "9c41a38c",
   "metadata": {},
   "outputs": [],
   "source": [
    "def sigmoid(z):\n",
    "    s = 1. / (1. + np.exp(-z))\n",
    "    return s\n",
    "\n",
    "def loss(Y, Y_hat):\n",
    "\n",
    "    L_sum = np.sum(np.multiply(Y, np.log(Y_hat)))\n",
    "    m = Y.shape[1]\n",
    "    L = -(1./m) * L_sum\n",
    "\n",
    "    return L\n",
    "\n",
    "def feed_forward(X, params):\n",
    "\n",
    "    cache = {}\n",
    "\n",
    "    cache[\"Z1\"] = np.matmul(params[\"W1\"], X) + params[\"b1\"]\n",
    "    cache[\"A1\"] = sigmoid(cache[\"Z1\"])\n",
    "    cache[\"Z2\"] = np.matmul(params[\"W2\"], cache[\"A1\"]) + params[\"b2\"]\n",
    "    cache[\"A2\"] = np.exp(cache[\"Z2\"]) / np.sum(np.exp(cache[\"Z2\"]), axis=0)\n",
    "\n",
    "    return cache\n",
    "\n",
    "def back_propagate(X, Y, params, cache, m_batch):\n",
    "\n",
    "    dZ2 = cache[\"A2\"] - Y\n",
    "    dW2 = (1./m_batch) * np.matmul(dZ2, cache[\"A1\"].T)\n",
    "    db2 = (1./m_batch) * np.sum(dZ2, axis=1, keepdims=True)\n",
    "\n",
    "    dA1 = np.matmul(params[\"W2\"].T, dZ2)\n",
    "    dZ1 = dA1 * sigmoid(cache[\"Z1\"]) * (1 - sigmoid(cache[\"Z1\"]))\n",
    "    dW1 = (1./m_batch) * np.matmul(dZ1, X.T)\n",
    "    db1 = (1./m_batch) * np.sum(dZ1, axis=1, keepdims=True)\n",
    "\n",
    "    grads = {\"dW1\": dW1, \"db1\": db1, \"dW2\": dW2, \"db2\": db2}\n",
    "\n",
    "    return grads"
   ]
  },
  {
   "cell_type": "code",
   "execution_count": 81,
   "id": "433df441",
   "metadata": {},
   "outputs": [
    {
     "name": "stdout",
     "output_type": "stream",
     "text": [
      "Epoch 1: training cost = 0.24184292736333005, test cost = 0.2421961306935763\n",
      "Epoch 2: training cost = 0.16516660456626378, test cost = 0.17182531785792793\n",
      "Epoch 3: training cost = 0.13275695441308097, test cost = 0.14438319831285304\n",
      "Epoch 4: training cost = 0.11082462464777462, test cost = 0.12722323947180564\n",
      "Epoch 5: training cost = 0.09385739126738321, test cost = 0.11529276311135589\n",
      "Epoch 6: training cost = 0.08216327362550706, test cost = 0.1037291188679851\n",
      "Epoch 7: training cost = 0.07187418600667839, test cost = 0.0990450696628956\n",
      "Epoch 8: training cost = 0.06612922306010936, test cost = 0.09570032140148957\n",
      "Epoch 9: training cost = 0.06022383362065129, test cost = 0.09317281986294705\n",
      "Done.\n"
     ]
    }
   ],
   "source": [
    "np.random.seed(138)\n",
    "\n",
    "# hyperparameters\n",
    "n_x = X_train.shape[0]\n",
    "n_h = 64\n",
    "learning_rate =0.1\n",
    "beta = .9\n",
    "batch_size = 10\n",
    "batches = 6000\n",
    "\n",
    "# initialization\n",
    "params = { \"W1\": np.random.randn(n_h, n_x) * np.sqrt(1. / n_x),\n",
    "           \"b1\": np.zeros((n_h, 1)) * np.sqrt(1. / n_x),\n",
    "           \"W2\": np.random.randn(digits, n_h) * np.sqrt(1. / n_h),\n",
    "           \"b2\": np.zeros((digits, 1)) * np.sqrt(1. / n_h) }\n",
    "\n",
    "V_dW1 = np.zeros(params[\"W1\"].shape)\n",
    "V_db1 = np.zeros(params[\"b1\"].shape)\n",
    "V_dW2 = np.zeros(params[\"W2\"].shape)\n",
    "V_db2 = np.zeros(params[\"b2\"].shape)\n",
    "\n",
    "# train\n",
    "for i in range(9):\n",
    "\n",
    "    #permutation = np.random.permutation(X_train.shape[1])\n",
    "    #X_train_shuffled = X_train[:, permutation]\n",
    "    #Y_train_shuffled = Y_train[:, permutation]\n",
    "\n",
    "    for j in range(batches):\n",
    "\n",
    "        #begin = j * batch_size\n",
    "        #end = min(begin + batch_size, X_train.shape[1] - 1)\n",
    "        #X = X_train_shuffled[:, begin:end]\n",
    "        #Y = Y_train_shuffled[:, begin:end]\n",
    "        #m_batch = end - begin\n",
    "        indices = np.random.choice(X_train.shape[1], batch_size, replace=False)\n",
    "        X = X_train_shuffled[:, indices]\n",
    "        Y = Y_train_shuffled[:, indices]\n",
    "        m_batch = 10 \n",
    "\n",
    "        cache = feed_forward(X, params)\n",
    "        grads = back_propagate(X, Y, params, cache, m_batch)\n",
    "\n",
    "        V_dW1 = (beta * V_dW1 + (1. - beta) * grads[\"dW1\"])\n",
    "        V_db1 = (beta * V_db1 + (1. - beta) * grads[\"db1\"])\n",
    "        V_dW2 = (beta * V_dW2 + (1. - beta) * grads[\"dW2\"])\n",
    "        V_db2 = (beta * V_db2 + (1. - beta) * grads[\"db2\"])\n",
    "\n",
    "        params[\"W1\"] = params[\"W1\"] - learning_rate * V_dW1\n",
    "        params[\"b1\"] = params[\"b1\"] - learning_rate * V_db1\n",
    "        params[\"W2\"] = params[\"W2\"] - learning_rate * V_dW2\n",
    "        params[\"b2\"] = params[\"b2\"] - learning_rate * V_db2\n",
    "\n",
    "    cache = feed_forward(X_train, params)\n",
    "    train_cost = loss(Y_train, cache[\"A2\"])\n",
    "    cache = feed_forward(X_test, params)\n",
    "    test_cost = loss(Y_test, cache[\"A2\"])\n",
    "    print(\"Epoch {}: training cost = {}, test cost = {}\".format(i+1 ,train_cost, test_cost))\n",
    "\n",
    "print(\"Done.\")"
   ]
  },
  {
   "cell_type": "code",
   "execution_count": 82,
   "id": "dccd4d88",
   "metadata": {},
   "outputs": [],
   "source": [
    "predictions = np.argmax(cache[\"A2\"], axis=0)\n",
    "labels = np.argmax(Y_test, axis=0)"
   ]
  },
  {
   "cell_type": "code",
   "execution_count": 83,
   "id": "d22f3b27",
   "metadata": {},
   "outputs": [
    {
     "data": {
      "text/plain": [
       "10000"
      ]
     },
     "execution_count": 83,
     "metadata": {},
     "output_type": "execute_result"
    }
   ],
   "source": [
    "len(labels)"
   ]
  },
  {
   "cell_type": "code",
   "execution_count": 84,
   "id": "579449e6",
   "metadata": {},
   "outputs": [
    {
     "data": {
      "text/plain": [
       "(10000,)"
      ]
     },
     "execution_count": 84,
     "metadata": {},
     "output_type": "execute_result"
    }
   ],
   "source": [
    "predictions.shape"
   ]
  },
  {
   "cell_type": "code",
   "execution_count": 85,
   "id": "fef57e0c",
   "metadata": {},
   "outputs": [],
   "source": [
    "total_correct = 0 \n",
    "for i in range(len(labels)):\n",
    "    if (predictions[i] == labels[i]):\n",
    "        total_correct += 1"
   ]
  },
  {
   "cell_type": "code",
   "execution_count": 86,
   "id": "95b1cd8b",
   "metadata": {},
   "outputs": [
    {
     "data": {
      "text/plain": [
       "97.22"
      ]
     },
     "execution_count": 86,
     "metadata": {},
     "output_type": "execute_result"
    }
   ],
   "source": [
    "total_correct/len(labels)*100 "
   ]
  },
  {
   "cell_type": "code",
   "execution_count": 37,
   "id": "a9529804",
   "metadata": {},
   "outputs": [
    {
     "name": "stdout",
     "output_type": "stream",
     "text": [
      "[[0. 0. 0. 0. 0. 0. 0. 0. 0.]\n",
      " [0. 0. 0. 0. 1. 1. 0. 0. 0.]\n",
      " [0. 1. 0. 0. 0. 0. 0. 0. 0.]\n",
      " [0. 0. 0. 0. 0. 0. 1. 0. 0.]\n",
      " [0. 0. 0. 0. 0. 0. 0. 0. 0.]\n",
      " [0. 0. 0. 1. 0. 0. 0. 0. 0.]\n",
      " [1. 0. 0. 0. 0. 0. 0. 0. 0.]\n",
      " [0. 0. 0. 0. 0. 0. 0. 0. 0.]\n",
      " [0. 0. 0. 0. 0. 0. 0. 1. 1.]\n",
      " [0. 0. 1. 0. 0. 0. 0. 0. 0.]]\n"
     ]
    }
   ],
   "source": [
    "print(Y)"
   ]
  },
  {
   "cell_type": "code",
   "execution_count": 38,
   "id": "9b5b6fd7",
   "metadata": {},
   "outputs": [
    {
     "data": {
      "text/plain": [
       "9"
      ]
     },
     "execution_count": 38,
     "metadata": {},
     "output_type": "execute_result"
    }
   ],
   "source": [
    "m_batch"
   ]
  },
  {
   "cell_type": "code",
   "execution_count": 39,
   "id": "a0bd0561",
   "metadata": {},
   "outputs": [
    {
     "data": {
      "text/plain": [
       "59990"
      ]
     },
     "execution_count": 39,
     "metadata": {},
     "output_type": "execute_result"
    }
   ],
   "source": [
    "begin\n"
   ]
  },
  {
   "cell_type": "code",
   "execution_count": 40,
   "id": "71d7d559",
   "metadata": {},
   "outputs": [
    {
     "data": {
      "text/plain": [
       "59999"
      ]
     },
     "execution_count": 40,
     "metadata": {},
     "output_type": "execute_result"
    }
   ],
   "source": [
    "end"
   ]
  },
  {
   "cell_type": "code",
   "execution_count": null,
   "id": "ba2f495a",
   "metadata": {},
   "outputs": [],
   "source": []
  }
 ],
 "metadata": {
  "kernelspec": {
   "display_name": "Python 3",
   "language": "python",
   "name": "python3"
  },
  "language_info": {
   "codemirror_mode": {
    "name": "ipython",
    "version": 3
   },
   "file_extension": ".py",
   "mimetype": "text/x-python",
   "name": "python",
   "nbconvert_exporter": "python",
   "pygments_lexer": "ipython3",
   "version": "3.9.13"
  },
  "toc": {
   "base_numbering": 1,
   "nav_menu": {},
   "number_sections": true,
   "sideBar": true,
   "skip_h1_title": false,
   "title_cell": "Table of Contents",
   "title_sidebar": "Contents",
   "toc_cell": false,
   "toc_position": {},
   "toc_section_display": true,
   "toc_window_display": false
  },
  "varInspector": {
   "cols": {
    "lenName": 16,
    "lenType": 16,
    "lenVar": 40
   },
   "kernels_config": {
    "python": {
     "delete_cmd_postfix": "",
     "delete_cmd_prefix": "del ",
     "library": "var_list.py",
     "varRefreshCmd": "print(var_dic_list())"
    },
    "r": {
     "delete_cmd_postfix": ") ",
     "delete_cmd_prefix": "rm(",
     "library": "var_list.r",
     "varRefreshCmd": "cat(var_dic_list()) "
    }
   },
   "position": {
    "height": "660.854px",
    "left": "1683.67px",
    "right": "20px",
    "top": "-34px",
    "width": "800px"
   },
   "types_to_exclude": [
    "module",
    "function",
    "builtin_function_or_method",
    "instance",
    "_Feature"
   ],
   "window_display": false
  }
 },
 "nbformat": 4,
 "nbformat_minor": 5
}
